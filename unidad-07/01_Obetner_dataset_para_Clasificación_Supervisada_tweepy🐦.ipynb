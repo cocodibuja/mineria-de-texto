{
  "nbformat": 4,
  "nbformat_minor": 0,
  "metadata": {
    "colab": {
      "name": "01. Obetner dataset para Clasificación Supervisada tweepy🐦.ipynb",
      "provenance": [],
      "collapsed_sections": []
    },
    "kernelspec": {
      "name": "python3",
      "display_name": "Python 3"
    },
    "language_info": {
      "name": "python"
    }
  },
  "cells": [
    {
      "cell_type": "markdown",
      "metadata": {
        "id": "TLYA4E4QEswa"
      },
      "source": [
        "Creo dataset"
      ]
    },
    {
      "cell_type": "code",
      "metadata": {
        "id": "SANC2m6sWDeN"
      },
      "source": [
        "import os\n",
        "import tweepy as tw\n",
        "import pandas as pd\n",
        "from datetime import datetime\n",
        "from google.colab import files\n",
        "\n",
        "\n",
        "def extraer_datos_twitter(search_words=\"#machinelearning\",N_items= 1000, date_since = datetime.today().strftime(\"%Y-%m-%d\"),output_name =\"default\" ):\n",
        "  '''search_words #tweets con el hastag machinelearning,\n",
        "     date_since en \"año-mes-dia\"\n",
        "     N_items= cantidad de tweets\n",
        "  '''\n",
        "  consumer_key= '##################'   \n",
        "  consumer_secret= '##################'' \n",
        "  access_token= '##################'\n",
        "  access_token_secret= '##################'\n",
        "  # se setan los parámetros de conexión a la API\n",
        "  auth = tw.OAuthHandler(consumer_key, consumer_secret)\n",
        "  auth.set_access_token(access_token, access_token_secret)\n",
        "  api = tw.API(auth, wait_on_rate_limit=True)\n",
        "  #se establece un criterio de búsqueda\n",
        "  #search_words = hastag #tweets con el hastag machinelearning\n",
        "  #date_since = \"2021-12-27\" #para un día determinado, no es obliogatorio. Si no se indica descarga tweets de lso útlimos 7 días en forma aleatoria\n",
        "\n",
        "  # se recolectan los tweets\n",
        "  tweets = tw.Cursor(api.search,\n",
        "                q=search_words,\n",
        "                lang=\"es\",\n",
        "                since=date_since).items(N_items)  #selecciono 5 tweets. La versión gratuita permite extraer hasta 10 mil tweets\n",
        "\n",
        "  # armamos la lista\n",
        "  lista_tweets=[tweet.text for tweet in tweets]\n",
        "  lista_tweets\n",
        "  # convertimos la lista en data frame y le damos un nombre a la columna\n",
        "  lista_final=pd.DataFrame(lista_tweets)\n",
        "\n",
        "  lista_final.columns=['Text']\n",
        "\n",
        "\n",
        "  return pd.DataFrame(lista_final)"
      ],
      "execution_count": null,
      "outputs": []
    },
    {
      "cell_type": "code",
      "source": [
        "def remover_duplicados_df(df):\n",
        "  '''remueve los duplicados identicos por fila'''\n",
        "  df = df.drop_duplicates()\n",
        "  df.reset_index(drop=True, inplace=True)\n",
        "  return df"
      ],
      "metadata": {
        "id": "bvS654EqkxBB"
      },
      "execution_count": null,
      "outputs": []
    },
    {
      "cell_type": "code",
      "metadata": {
        "id": "-biwjdIrWW67"
      },
      "source": [
        "df_navidad = extraer_datos_twitter(search_words=\"#navidad\",N_items= 1000,date_since=\"2021-12-24\")"
      ],
      "execution_count": null,
      "outputs": []
    },
    {
      "cell_type": "code",
      "source": [
        "df_salud = extraer_datos_twitter(search_words=\"#salud\")"
      ],
      "metadata": {
        "id": "3jIksm0giLI4"
      },
      "execution_count": null,
      "outputs": []
    },
    {
      "cell_type": "code",
      "source": [
        "df_vacas = extraer_datos_twitter(search_words=\"#vacaciones\")"
      ],
      "metadata": {
        "id": "j-RH2u6OicDw"
      },
      "execution_count": null,
      "outputs": []
    },
    {
      "cell_type": "code",
      "source": [
        "df_navidad = remover_duplicados_df(df_navidad)\n",
        "df_salud = remover_duplicados_df(df_salud)\n",
        "df_vacas = remover_duplicados_df(df_vacas)"
      ],
      "metadata": {
        "colab": {
          "base_uri": "https://localhost:8080/"
        },
        "id": "i4pnFggIsN1y",
        "outputId": "43beabe6-7b61-4e89-9149-fdbed983dbc8"
      },
      "execution_count": null,
      "outputs": [
        {
          "output_type": "execute_result",
          "data": {
            "text/plain": [
              "(818, 1)"
            ]
          },
          "metadata": {},
          "execution_count": 28
        }
      ]
    },
    {
      "cell_type": "code",
      "source": [
        "df_navidad['etiqueta'] = \"navidad\"\n",
        "df_salud['etiqueta'] = \"salud\"\n",
        "df_vacas['etiqueta'] = \"vacas\""
      ],
      "metadata": {
        "id": "L5LJvktrr4wi"
      },
      "execution_count": null,
      "outputs": []
    },
    {
      "cell_type": "code",
      "source": [
        "df_datos = pd.concat([df_navidad, df_salud,df_vacas])"
      ],
      "metadata": {
        "id": "a3DdrF9_vVua"
      },
      "execution_count": null,
      "outputs": []
    },
    {
      "cell_type": "code",
      "source": [
        "df_datos.to_csv('dataset.csv')\n",
        "files.download('dataset.csv')"
      ],
      "metadata": {
        "colab": {
          "base_uri": "https://localhost:8080/",
          "height": 17
        },
        "id": "bwYlWzSYwYWe",
        "outputId": "0d6c7e39-1c75-4176-9018-4edffc6dd52f"
      },
      "execution_count": null,
      "outputs": [
        {
          "output_type": "display_data",
          "data": {
            "application/javascript": [
              "\n",
              "    async function download(id, filename, size) {\n",
              "      if (!google.colab.kernel.accessAllowed) {\n",
              "        return;\n",
              "      }\n",
              "      const div = document.createElement('div');\n",
              "      const label = document.createElement('label');\n",
              "      label.textContent = `Downloading \"${filename}\": `;\n",
              "      div.appendChild(label);\n",
              "      const progress = document.createElement('progress');\n",
              "      progress.max = size;\n",
              "      div.appendChild(progress);\n",
              "      document.body.appendChild(div);\n",
              "\n",
              "      const buffers = [];\n",
              "      let downloaded = 0;\n",
              "\n",
              "      const channel = await google.colab.kernel.comms.open(id);\n",
              "      // Send a message to notify the kernel that we're ready.\n",
              "      channel.send({})\n",
              "\n",
              "      for await (const message of channel.messages) {\n",
              "        // Send a message to notify the kernel that we're ready.\n",
              "        channel.send({})\n",
              "        if (message.buffers) {\n",
              "          for (const buffer of message.buffers) {\n",
              "            buffers.push(buffer);\n",
              "            downloaded += buffer.byteLength;\n",
              "            progress.value = downloaded;\n",
              "          }\n",
              "        }\n",
              "      }\n",
              "      const blob = new Blob(buffers, {type: 'application/binary'});\n",
              "      const a = document.createElement('a');\n",
              "      a.href = window.URL.createObjectURL(blob);\n",
              "      a.download = filename;\n",
              "      div.appendChild(a);\n",
              "      a.click();\n",
              "      div.remove();\n",
              "    }\n",
              "  "
            ],
            "text/plain": [
              "<IPython.core.display.Javascript object>"
            ]
          },
          "metadata": {}
        },
        {
          "output_type": "display_data",
          "data": {
            "application/javascript": [
              "download(\"download_31e0e117-7d52-41f5-9648-8d6c1084cbaf\", \"dataset.csv\", 291788)"
            ],
            "text/plain": [
              "<IPython.core.display.Javascript object>"
            ]
          },
          "metadata": {}
        }
      ]
    }
  ]
}