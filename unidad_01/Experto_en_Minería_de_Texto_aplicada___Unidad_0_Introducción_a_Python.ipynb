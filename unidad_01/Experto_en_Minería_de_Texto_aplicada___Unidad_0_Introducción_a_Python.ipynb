{
  "nbformat": 4,
  "nbformat_minor": 0,
  "metadata": {
    "colab": {
      "name": "Experto en Minería de Texto aplicada > Unidad 0 - Introducción a Python.ipynb",
      "provenance": []
    },
    "kernelspec": {
      "name": "python3",
      "display_name": "Python 3"
    },
    "language_info": {
      "name": "python"
    }
  },
  "cells": [
    {
      "cell_type": "markdown",
      "metadata": {
        "id": "uHWeCVcKmrrV"
      },
      "source": [
        "## **Algunos conceptos básicos**\n",
        "\n",
        "\n",
        "### Variable y valor\n",
        "\n",
        "\n",
        "\n",
        "\n",
        "**Variable:** nombre que hace referencia a un valor. No puede contener espacios.\n",
        "\n",
        "\n",
        "**Valor:** un número o cadena (o cualquier otra cosa que se especifique posteriormente) que puede almacenarse en una variable o calcularse en una expresión.\n",
        "\n",
        "**Sentencia:** es una porción de código que representa una orden o acción. \n",
        "\n",
        "- Asignación: Sentencia que asigna un valor a una variable.\n",
        " - _Ejemplo:_ edad = 17"
      ]
    },
    {
      "cell_type": "markdown",
      "metadata": {
        "id": "RMF_FZ9NmpvX"
      },
      "source": [
        "### Métodos de los strings"
      ]
    },
    {
      "cell_type": "code",
      "metadata": {
        "id": "HcZI1FSFkpYx"
      },
      "source": [
        "# (Lo que está en verde se denomina comentario, y es un segmento de información en un programa destinado a cualquiera que lea el código y que no tiene efecto sobre su ejecución. \n",
        "\n",
        "#En Python se escribe # al inicio de lo que no queremos que sea interpretado.)\n",
        "\n",
        "nombre = \"Juan\" # Variable nombre; valor Juan\n",
        "\n",
        "\n",
        "type(nombre) #Tipo de variable\n"
      ],
      "execution_count": null,
      "outputs": []
    },
    {
      "cell_type": "code",
      "metadata": {
        "colab": {
          "base_uri": "https://localhost:8080/",
          "height": 35
        },
        "id": "CdQ7ybQTkuvl",
        "outputId": "29706327-1567-4873-e309-f015e1022a36"
      },
      "source": [
        "nombre.upper() #Convertir a todo mayúsculas"
      ],
      "execution_count": null,
      "outputs": [
        {
          "output_type": "execute_result",
          "data": {
            "application/vnd.google.colaboratory.intrinsic+json": {
              "type": "string"
            },
            "text/plain": [
              "'JUAN'"
            ]
          },
          "metadata": {},
          "execution_count": 3
        }
      ]
    },
    {
      "cell_type": "code",
      "metadata": {
        "colab": {
          "base_uri": "https://localhost:8080/",
          "height": 35
        },
        "id": "6eVdQAmPkrF4",
        "outputId": "4bfb8fa9-8241-4f92-b4d5-e8383e097bc0"
      },
      "source": [
        "nombre.lower() #Convertir a todo minúsculas\n"
      ],
      "execution_count": null,
      "outputs": [
        {
          "output_type": "execute_result",
          "data": {
            "application/vnd.google.colaboratory.intrinsic+json": {
              "type": "string"
            },
            "text/plain": [
              "'juan'"
            ]
          },
          "metadata": {},
          "execution_count": 2
        }
      ]
    },
    {
      "cell_type": "code",
      "metadata": {
        "id": "N7WxW0Okky0O"
      },
      "source": [
        "edad = 24\n",
        "#edad.upper() Si se lo corriera daría error, puesto que es un número"
      ],
      "execution_count": null,
      "outputs": []
    },
    {
      "cell_type": "code",
      "metadata": {
        "colab": {
          "base_uri": "https://localhost:8080/"
        },
        "id": "ApzEN3wXmcb5",
        "outputId": "afbce3f7-3cc6-4254-b510-c9002195b6aa"
      },
      "source": [
        "nombre_completo = \"Juan Gimenez\"\n",
        "nombre_apellido = nombre_completo.split(' ') #Dividimos en dos a partir del espacio\n",
        "\n",
        "print(nombre_completo)\n",
        "print(nombre_apellido)\n",
        "\n",
        "type(nombre_apellido)\n",
        "\n"
      ],
      "execution_count": null,
      "outputs": [
        {
          "output_type": "stream",
          "name": "stdout",
          "text": [
            "Juan Gimenez\n",
            "['Juan', 'Gimenez']\n",
            "Juan\n",
            "Gimenez\n"
          ]
        },
        {
          "output_type": "execute_result",
          "data": {
            "text/plain": [
              "str"
            ]
          },
          "metadata": {},
          "execution_count": 1
        }
      ]
    },
    {
      "cell_type": "code",
      "metadata": {
        "colab": {
          "base_uri": "https://localhost:8080/"
        },
        "id": "_cd0dmmwk8ok",
        "outputId": "21c3d6d8-a9a8-4699-bbb6-5a090d2ac112"
      },
      "source": [
        "nombre_pila = nombre_apellido[0] #Tomamos sólo la primera parte\n",
        "apellido = nombre_apellido[1]\n",
        "print(nombre_pila)\n",
        "print(apellido)\n",
        "\n",
        "type(nombre_pila)\n",
        "\n",
        "#nombre_apellido.split(' ')\n",
        "#nombre_pila[0]"
      ],
      "execution_count": null,
      "outputs": [
        {
          "output_type": "stream",
          "name": "stdout",
          "text": [
            "Juan\n",
            "Gimenez\n"
          ]
        },
        {
          "output_type": "execute_result",
          "data": {
            "text/plain": [
              "str"
            ]
          },
          "metadata": {},
          "execution_count": 6
        }
      ]
    },
    {
      "cell_type": "markdown",
      "metadata": {
        "id": "EZwDBmGAnHWi"
      },
      "source": [
        "**Conversión de tipo:** Una sentencia explícita que toma un valor de un tipo y calcula el valor correspondiente de otro tipo (siempre que sea posible). \n",
        "\n",
        "| descripción | función | devuelve |\n",
        "| :---------: | :-----: | :------: |\n",
        "| Convierte en entero | int(20.9) | 30 |\n",
        "| Convierte en string | str(402)  | “402” |\n",
        "| Convierte en float  | float(40) | 40.0 |\n"
      ]
    },
    {
      "cell_type": "code",
      "metadata": {
        "colab": {
          "base_uri": "https://localhost:8080/"
        },
        "id": "8l43Kd5elGq0",
        "outputId": "b1681882-e2f5-4c86-eb1a-4eabe99cd962"
      },
      "source": [
        "num = 3\n",
        "num2 = 2\n",
        "print(num + num2)"
      ],
      "execution_count": null,
      "outputs": [
        {
          "output_type": "stream",
          "name": "stdout",
          "text": [
            "5\n"
          ]
        }
      ]
    },
    {
      "cell_type": "code",
      "metadata": {
        "id": "XLAmkTUllP_s"
      },
      "source": [
        "num = str(num) # convierto al número en una string\n",
        "num2 = 2\n",
        "print(num + num2) #Da error porque sólo se puede hacer operaciones aritméticas con variables numéricas"
      ],
      "execution_count": null,
      "outputs": []
    },
    {
      "cell_type": "markdown",
      "metadata": {
        "id": "0cvzY7amnVJH"
      },
      "source": [
        "## Funciones\n",
        "\n",
        "\n",
        "**Funciones:** son instrucciones que Python reconoce y ejecuta.\n",
        "\n",
        "Cuando son llamadas, tienen la forma _funcion()_ o _funcion(arg)_ o _funcion(arg1, arg2,...)_\n",
        "\n",
        "Se dice que una función **_toma algo_** (argumento), y **_devuelve algo_** (puede ser ejecutar una acción -como imprimir algo- o devolver variables nuevas a partir de las existentes, por ejemplo).\n",
        "\n",
        "Sin embargo, es posible que una función no _tome_ nada y/o que no _devuelva_ nada.\n",
        "\n",
        "- **Funciones nativas** de Python: vienen con el lenguaje cuando lo instalás\n",
        "\n",
        "- Uno puede **definir** sus propias **funciones**.\n",
        "\n",
        "- Funciones de otros programadores (hay que descargarse los **módulos** que las contienen e importarlas)\n",
        "\n",
        "**Parámetro:** Nombre que se usa dentro de una función **cuando se la define** para referirse al valor que se le pasa como argumento.\n",
        "\n",
        "**Argumento:** Valor que se le pasa a una función **cuando se la llama**. El valor se asigna al parámetro correspondiente de la función. "
      ]
    },
    {
      "cell_type": "code",
      "metadata": {
        "id": "DDMpH-YPnUOZ",
        "colab": {
          "base_uri": "https://localhost:8080/"
        },
        "outputId": "ea86c8ed-070f-4dee-cbd6-4a275e5121c4"
      },
      "source": [
        "nombre = \"Mariana\"\n",
        "type(nombre) #type es una función nativa de Python, nombre su argumento\n",
        "\n",
        "len(nombre) # len es una función nativa de Python, nombre su argumento\n"
      ],
      "execution_count": null,
      "outputs": [
        {
          "output_type": "execute_result",
          "data": {
            "text/plain": [
              "7"
            ]
          },
          "metadata": {},
          "execution_count": 12
        }
      ]
    },
    {
      "cell_type": "code",
      "metadata": {
        "colab": {
          "base_uri": "https://localhost:8080/"
        },
        "id": "lIJIwSj1le7m",
        "outputId": "6229ec16-bba3-4256-d0a6-03dee40072ab"
      },
      "source": [
        "lista_de_nombres = [\"Gerardo\", \"Esteban\", \"Florencia\", \"Vanesa\", \"Adrian\"]\n",
        "type(lista_de_nombres)\n",
        "\n",
        "len(lista_de_nombres)\n",
        "# ¿y si tengo un número en la lista?"
      ],
      "execution_count": null,
      "outputs": [
        {
          "output_type": "execute_result",
          "data": {
            "text/plain": [
              "5"
            ]
          },
          "metadata": {},
          "execution_count": 13
        }
      ]
    },
    {
      "cell_type": "markdown",
      "metadata": {
        "id": "TDitnKW1ngCC"
      },
      "source": [
        "### Definiendo funciones propias\n",
        "\n",
        "**Definir una función**: incluir una sentencia que crea una nueva función, especificando su nombre, parámetros y las sentencias que ejecuta. No se ejecuta si la función no es llamada.\n",
        "\n",
        "**Sentencia compuesta**: Estructura de Python que está formada por una **cabecera** y un **bloque**. La cabecera termina en dos puntos (__:__) y el bloque está **indentado** respecto de la cabecera (esto es, tiene sangría)."
      ]
    },
    {
      "cell_type": "code",
      "metadata": {
        "colab": {
          "base_uri": "https://localhost:8080/"
        },
        "id": "-XhO-_cLnepm",
        "outputId": "c95427e6-3731-43b7-cc0a-0adb0675fe1e"
      },
      "source": [
        "### Definiendo funciones propias\n",
        "# Definición de la función\n",
        "def saludar(name): ## Parámetro: name (interno a la función)\n",
        "    print(\"hola, \"+ name)\n",
        "\n",
        "# Llamada a la función\n",
        "saludar(nombre) ## Argumento: la cadena \"Juan\" almacenada en la variable 'nombre'."
      ],
      "execution_count": null,
      "outputs": [
        {
          "output_type": "stream",
          "name": "stdout",
          "text": [
            "hola, Mariana\n"
          ]
        }
      ]
    },
    {
      "cell_type": "markdown",
      "metadata": {
        "id": "fT4cmGFRntam"
      },
      "source": [
        "**flujo de ejecución:** Orden en el que se ejecutan las sentencias durante la ejecución de un programa. Python es un **lenguaje lineal**, es decir, las sentencias se ejecutan a razón de una por vez, en orden, hasta que se alcanza una llamada a una función. En ese punto se ejecutan las sentencias definidas dentro de esa función, y luego continúa con la siguiente sentencia.\n",
        "\n",
        "**variable local:** variable definida dentro de una función. Las variables locales sólo pueden usarse dentro de su función (masuno en la definición de MasUno). \n",
        "\n",
        "**variable global:** variable accesible en todos los ámbitos de un programa. En reglas generales, una variable global no puede cambiar su valor adentro de una función (el nuevo valor debe asignarse a otra variable)\n",
        "\n",
        "**valor de retorno:** Es el resultado de una función. "
      ]
    },
    {
      "cell_type": "code",
      "metadata": {
        "id": "5s9hfPnFnyc1"
      },
      "source": [
        "# Definición de la función\n",
        "def MasUno(numero):\n",
        "    masuno = numero + 1 # ojo, sensible a las mayúsculas!\n",
        "    #print(masuno)\n",
        "    return masuno\n",
        "\n",
        "MasUno(3)\n",
        "\n",
        "#print(masuno)\n",
        "\n",
        "#saludar(3)\n",
        "#MasUno(nombre)\n",
        "\n",
        "cuatro = MasUno(3)\n",
        "MasUno(cuatro)\n",
        "\n",
        "casa = \"casa\"\n",
        "def vivienda(casa):\n",
        "    casa = 'mi edificio'\n",
        "    return casa\n",
        "\n",
        "# Probar que se llamen igual adentro y afuera\n",
        "\n",
        "vivienda(casa)\n",
        "\n",
        "print(casa)"
      ],
      "execution_count": null,
      "outputs": []
    },
    {
      "cell_type": "markdown",
      "metadata": {
        "id": "VSMkl468n3TQ"
      },
      "source": [
        "# Módulos, paquetes, librerías\n",
        "\n",
        "**Módulo:** Archivo que contiene una colección de funciones y clases relacionadas.\n",
        "\n",
        "**Paquete**: Módulo que agrupa otros módulos (o subpaquetes) bajo un mismo nombre.\n",
        "\n",
        "Librería/Biblioteca: **bold text** Conjunto de funciones, módulos o paquetes que se importan en conjunto. Al instalar Python viene con una librería estándar que consiste en un conjunto de paquetes.\n",
        "\n",
        "Se puede descargar librerías, módulos o paquetes de otros programadores, usar los de Python y/o crear propios.\n",
        "\n",
        "Python tiene un instalador de paquetes que se llama pip. Algunos paquetes ya vienen cuando uno se instala Python; muchos otros tienen la opción de descargarse e instalarse escribiendo en la terminal de la computadora:\n",
        "\n",
        "*pip install nombre_del_paquete* \n",
        "\n",
        "Para usar una función de un módulo específico, escribiremos al comienzo de nuestro programa:\n",
        "\n",
        "import nombredelmódulo\n",
        "\n",
        "Luego, para llamar la función, escribiremos el nombre del módulo, un punto y luego el de la función"
      ]
    },
    {
      "cell_type": "code",
      "metadata": {
        "id": "qo4UZV_1pJSE"
      },
      "source": [
        "#Revisemos el ejemplo del principio\n",
        "nombre = 'Fernando'\n",
        "nombre.lower()\n",
        "\n",
        "str.lower(nombre)\n",
        "\n",
        "import re\n",
        "re.sub('o','a',nombre)\n",
        "\n",
        "print(nombre)   # qué va a imprimir? Por qué?\n",
        "\n",
        "import re as sarasa\n",
        "sarasa.sub('o','a',nombre)"
      ],
      "execution_count": null,
      "outputs": []
    },
    {
      "cell_type": "markdown",
      "metadata": {
        "id": "CKUY_3q7pH5A"
      },
      "source": [
        "# Listas por comprensión\n",
        "\n",
        "\n",
        "#### ¿Qué son las listas por comprensión?\n",
        "\n",
        "Las listas por comprensión son sentencias que realizan algún tipo de operación en cada elemento de una lista. Vamos a empezar con una simple lista de números:"
      ]
    },
    {
      "cell_type": "markdown",
      "metadata": {
        "id": "1tZo1awxpbxO"
      },
      "source": [
        "Supongamos que queremos sumar 1 a cada elemento de la lista. Podríamos hacer esto de diferentes\n",
        "maneras sin utilizar listas por comrensión. Podríamos utilizar un for:"
      ]
    },
    {
      "cell_type": "code",
      "metadata": {
        "id": "0FwvrwGapccx"
      },
      "source": [
        "numbers = [0,1,2,3,4,5,6,7,8,9]\n",
        "nums_plus_one = []\n",
        "for num in numbers:\n",
        "    nums_plus_one.append(num + 1)\n",
        "\n",
        "nums_plus_one"
      ],
      "execution_count": null,
      "outputs": []
    },
    {
      "cell_type": "markdown",
      "metadata": {
        "id": "zhbd-30UplCO"
      },
      "source": [
        "En cambio, con una lista por comprensión podemos resolverlo de manera más eficiente"
      ]
    },
    {
      "cell_type": "code",
      "metadata": {
        "id": "4l_IvsCRpkPg"
      },
      "source": [
        "nums_plus_one = [x + 1 for x in numbers]"
      ],
      "execution_count": null,
      "outputs": []
    },
    {
      "cell_type": "markdown",
      "metadata": {
        "id": "5aX1NKx3pss7"
      },
      "source": [
        "Vayamos al detalle de cómo esto funciona:\n",
        "* num_plus_one es asignada a izquierda como una nueva variable\n",
        "* Las listas por comprensión retornan una lista, y la sentencia está envuelta en corchetes: [...]\n",
        "* Entre los corchetes la estructura es similar a la de un loop for:\n",
        "    1. La **operación por elemento** viene primero: x+1\n",
        "    2. Luego está la **variable de asignación de la iteración**: for x\n",
        "    3. Por último, la **la lista de elementos sobre la cual iterar**: in numbers"
      ]
    },
    {
      "cell_type": "markdown",
      "metadata": {
        "id": "_KyDRhaOp5Tp"
      },
      "source": [
        "Las listas por comprensión no sólo sirven para iterar sobre los elementos para aplicarles alguna operación, también se pueden aplicar condiciones. \n",
        "Supongamos que quisieramos \"binarizar\" una variable según si cada elemento es mayor o menor/igual que la mitad de la máxima de todos los elementos. El for para hacer esto podría ser de esta manera:"
      ]
    },
    {
      "cell_type": "code",
      "metadata": {
        "id": "kMMZTXgyp6gH"
      },
      "source": [
        "n = [1, 2, 7, 21, 3, 1, 62, 3, 34, 12, 73, 44, 12, 11, 9]\n",
        "n_bin = []\n",
        "n_max_2 = max(n) / 2\n",
        "for x in n:\n",
        "    if x >= n_max_2:\n",
        "        n_bin.append(1)\n",
        "    else:\n",
        "        n_bin.append(0)"
      ],
      "execution_count": null,
      "outputs": []
    },
    {
      "cell_type": "markdown",
      "metadata": {
        "id": "gPPAH35WqA2v"
      },
      "source": [
        "Pero esto requiere mucho código. Una lista por comprensión puede hacer lo mismo mucho más fácil:\n",
        "\n",
        "##### 3- A \"Binarizar\" n de manera tal que los valores mayores o iguales a la mitad del máximo de n sean 1, los demás 0"
      ]
    },
    {
      "cell_type": "code",
      "metadata": {
        "id": "QaQK_Xg3qBw3"
      },
      "source": [
        "n = [1, 2, 7, 21, 3, 1, 62, 3, 34, 12, 73, 44, 12, 11, 9]\n",
        "n_max_2 = max(n) / 2\n",
        "\n",
        "n_bin = [1 if x > n_max_2 else 0 for x in n]"
      ],
      "execution_count": null,
      "outputs": []
    },
    {
      "cell_type": "markdown",
      "metadata": {
        "id": "SZLqFpH81CaT"
      },
      "source": [
        "# Introducción a Pandas"
      ]
    },
    {
      "cell_type": "markdown",
      "metadata": {
        "id": "Pm_pvq5F1Pfj"
      },
      "source": [
        "Una de las mejores opciones para trabajar con datos tabulares en Python es usar la Python Data Analysis Library (alias Pandas). La biblioteca Pandas provee estructuras de datos, genera gráficos de alta calidad con matplotlib y se integra de buena forma con otras bibliotecas que usan arrays de NumPy (la cual es otra biblioteca de Python).\n",
        "\n",
        "Python no carga todas las bibliotecas disponibles por default. Como se vio más arriba, se tiene que usar el enunciado import en nuestro código para usar las funciones de la biblioteca. \n",
        "\n",
        "Pandas se suele importar con el sobrenombre **pd**\n",
        "\n",
        "*import pandas as pd*\n"
      ]
    },
    {
      "cell_type": "code",
      "metadata": {
        "id": "JDIkAFh51GlJ"
      },
      "source": [
        "import pandas as pd"
      ],
      "execution_count": null,
      "outputs": []
    },
    {
      "cell_type": "markdown",
      "metadata": {
        "id": "nkOwDVQC1zqf"
      },
      "source": [
        ""
      ]
    },
    {
      "cell_type": "markdown",
      "metadata": {
        "id": "97akrgQo1mGK"
      },
      "source": [
        "**El DataFrame**\n",
        "\n",
        "Un DataFrame es una estructura de datos más usada en Pandas. Permite   guardar datos de distintos tipos (como caractéres, enteros, valores de punto flotante, factores y más) en columnas. Es similar a una hoja de cálculo o una tabla de SQL o el data.frame de R. Un DataFrame siempre tiene un índice (con inicio en 0). El índice refiere a la posición de un elemento en la estructura de datos."
      ]
    },
    {
      "cell_type": "code",
      "metadata": {
        "colab": {
          "base_uri": "https://localhost:8080/",
          "height": 205
        },
        "id": "6yn45xM11B9R",
        "outputId": "e60c8380-ffe9-4ef4-aa4d-ff1dcb0014bc"
      },
      "source": [
        "area = pd.Series({'California': 423967, 'Texas': 695662,\n",
        "                  'New York': 141297, 'Florida': 170312,\n",
        "                  'Illinois': 149995})\n",
        "pop = pd.Series({'California': 38332521, 'Texas': 26448193,\n",
        "                 'New York': 19651127, 'Florida': 19552860,\n",
        "                 'Illinois': 12882135})\n",
        "data = pd.DataFrame({'area':area, 'pop':pop})\n",
        "data"
      ],
      "execution_count": null,
      "outputs": [
        {
          "output_type": "execute_result",
          "data": {
            "text/html": [
              "<div>\n",
              "<style scoped>\n",
              "    .dataframe tbody tr th:only-of-type {\n",
              "        vertical-align: middle;\n",
              "    }\n",
              "\n",
              "    .dataframe tbody tr th {\n",
              "        vertical-align: top;\n",
              "    }\n",
              "\n",
              "    .dataframe thead th {\n",
              "        text-align: right;\n",
              "    }\n",
              "</style>\n",
              "<table border=\"1\" class=\"dataframe\">\n",
              "  <thead>\n",
              "    <tr style=\"text-align: right;\">\n",
              "      <th></th>\n",
              "      <th>area</th>\n",
              "      <th>pop</th>\n",
              "    </tr>\n",
              "  </thead>\n",
              "  <tbody>\n",
              "    <tr>\n",
              "      <th>California</th>\n",
              "      <td>423967</td>\n",
              "      <td>38332521</td>\n",
              "    </tr>\n",
              "    <tr>\n",
              "      <th>Texas</th>\n",
              "      <td>695662</td>\n",
              "      <td>26448193</td>\n",
              "    </tr>\n",
              "    <tr>\n",
              "      <th>New York</th>\n",
              "      <td>141297</td>\n",
              "      <td>19651127</td>\n",
              "    </tr>\n",
              "    <tr>\n",
              "      <th>Florida</th>\n",
              "      <td>170312</td>\n",
              "      <td>19552860</td>\n",
              "    </tr>\n",
              "    <tr>\n",
              "      <th>Illinois</th>\n",
              "      <td>149995</td>\n",
              "      <td>12882135</td>\n",
              "    </tr>\n",
              "  </tbody>\n",
              "</table>\n",
              "</div>"
            ],
            "text/plain": [
              "              area       pop\n",
              "California  423967  38332521\n",
              "Texas       695662  26448193\n",
              "New York    141297  19651127\n",
              "Florida     170312  19552860\n",
              "Illinois    149995  12882135"
            ]
          },
          "metadata": {},
          "execution_count": 5
        }
      ]
    },
    {
      "cell_type": "markdown",
      "metadata": {
        "id": "mnaVj8nX2A7S"
      },
      "source": [
        "* Puede accederse a las ``Series`` individuales que forman las columnas del ``DataFrame`` de forma análoga a un diccionario, vía el nombre de la columna."
      ]
    },
    {
      "cell_type": "code",
      "metadata": {
        "colab": {
          "base_uri": "https://localhost:8080/"
        },
        "id": "IRG5ALlp13C8",
        "outputId": "b8e910f5-5730-4d40-adad-38530946b874"
      },
      "source": [
        "data.loc[:,'area']\n",
        "data.area"
      ],
      "execution_count": null,
      "outputs": [
        {
          "output_type": "execute_result",
          "data": {
            "text/plain": [
              "California    423967\n",
              "Texas         695662\n",
              "New York      141297\n",
              "Florida       170312\n",
              "Illinois      149995\n",
              "Name: area, dtype: int64"
            ]
          },
          "metadata": {},
          "execution_count": 7
        }
      ]
    },
    {
      "cell_type": "markdown",
      "metadata": {
        "id": "iCiPl1XG2qfC"
      },
      "source": [
        "El método **iloc** se utiliza en los DataFrames para seleccionar los elementos en base a su ubicación. \n",
        "\n",
        "Su sintaxis es data.iloc\\[ filas, columnas \\], en el orden que aparecen en el objeto. Una notación familiar para los usuarios de Matlab. \n",
        "\n",
        "En un DataFrame cada una de las filas tiene un número que va desde 0 hasta el total de filas menos uno (la primera lleva la posición 0). "
      ]
    },
    {
      "cell_type": "code",
      "metadata": {
        "colab": {
          "base_uri": "https://localhost:8080/",
          "height": 143
        },
        "id": "Z9ijmidw2Ekv",
        "outputId": "8147eeba-b5d6-4400-ac6f-da2c7adcb5be"
      },
      "source": [
        "#Udata[data.density > 100]\n",
        "\n",
        "data.iloc[:3, :3]"
      ],
      "execution_count": null,
      "outputs": [
        {
          "output_type": "execute_result",
          "data": {
            "text/html": [
              "<div>\n",
              "<style scoped>\n",
              "    .dataframe tbody tr th:only-of-type {\n",
              "        vertical-align: middle;\n",
              "    }\n",
              "\n",
              "    .dataframe tbody tr th {\n",
              "        vertical-align: top;\n",
              "    }\n",
              "\n",
              "    .dataframe thead th {\n",
              "        text-align: right;\n",
              "    }\n",
              "</style>\n",
              "<table border=\"1\" class=\"dataframe\">\n",
              "  <thead>\n",
              "    <tr style=\"text-align: right;\">\n",
              "      <th></th>\n",
              "      <th>area</th>\n",
              "      <th>pop</th>\n",
              "    </tr>\n",
              "  </thead>\n",
              "  <tbody>\n",
              "    <tr>\n",
              "      <th>California</th>\n",
              "      <td>423967</td>\n",
              "      <td>38332521</td>\n",
              "    </tr>\n",
              "    <tr>\n",
              "      <th>Texas</th>\n",
              "      <td>695662</td>\n",
              "      <td>26448193</td>\n",
              "    </tr>\n",
              "    <tr>\n",
              "      <th>New York</th>\n",
              "      <td>141297</td>\n",
              "      <td>19651127</td>\n",
              "    </tr>\n",
              "  </tbody>\n",
              "</table>\n",
              "</div>"
            ],
            "text/plain": [
              "              area       pop\n",
              "California  423967  38332521\n",
              "Texas       695662  26448193\n",
              "New York    141297  19651127"
            ]
          },
          "metadata": {},
          "execution_count": 8
        }
      ]
    },
    {
      "cell_type": "markdown",
      "metadata": {
        "id": "AkZQumaj2xkI"
      },
      "source": [
        "El método **loc** se puede usar de dos formas diferentes: seleccionar filas o columnas en base a una etiqueta o seleccionar filas o columnas en base a una condición"
      ]
    },
    {
      "cell_type": "code",
      "metadata": {
        "id": "iEqV3lC22E5d",
        "colab": {
          "base_uri": "https://localhost:8080/",
          "height": 205
        },
        "outputId": "aba52c13-5ce7-4d91-df3a-3bc7f3de6cf4"
      },
      "source": [
        "data.loc[:'Illinois', :'pop']\n"
      ],
      "execution_count": null,
      "outputs": [
        {
          "output_type": "execute_result",
          "data": {
            "text/html": [
              "<div>\n",
              "<style scoped>\n",
              "    .dataframe tbody tr th:only-of-type {\n",
              "        vertical-align: middle;\n",
              "    }\n",
              "\n",
              "    .dataframe tbody tr th {\n",
              "        vertical-align: top;\n",
              "    }\n",
              "\n",
              "    .dataframe thead th {\n",
              "        text-align: right;\n",
              "    }\n",
              "</style>\n",
              "<table border=\"1\" class=\"dataframe\">\n",
              "  <thead>\n",
              "    <tr style=\"text-align: right;\">\n",
              "      <th></th>\n",
              "      <th>area</th>\n",
              "      <th>pop</th>\n",
              "    </tr>\n",
              "  </thead>\n",
              "  <tbody>\n",
              "    <tr>\n",
              "      <th>California</th>\n",
              "      <td>423967</td>\n",
              "      <td>38332521</td>\n",
              "    </tr>\n",
              "    <tr>\n",
              "      <th>Texas</th>\n",
              "      <td>695662</td>\n",
              "      <td>26448193</td>\n",
              "    </tr>\n",
              "    <tr>\n",
              "      <th>New York</th>\n",
              "      <td>141297</td>\n",
              "      <td>19651127</td>\n",
              "    </tr>\n",
              "    <tr>\n",
              "      <th>Florida</th>\n",
              "      <td>170312</td>\n",
              "      <td>19552860</td>\n",
              "    </tr>\n",
              "    <tr>\n",
              "      <th>Illinois</th>\n",
              "      <td>149995</td>\n",
              "      <td>12882135</td>\n",
              "    </tr>\n",
              "  </tbody>\n",
              "</table>\n",
              "</div>"
            ],
            "text/plain": [
              "              area       pop\n",
              "California  423967  38332521\n",
              "Texas       695662  26448193\n",
              "New York    141297  19651127\n",
              "Florida     170312  19552860\n",
              "Illinois    149995  12882135"
            ]
          },
          "metadata": {},
          "execution_count": 20
        }
      ]
    },
    {
      "cell_type": "markdown",
      "metadata": {
        "id": "edgil8URtUff"
      },
      "source": [
        "Crear nuevas columnas a partir de las otras"
      ]
    },
    {
      "cell_type": "code",
      "metadata": {
        "id": "CxSRbnImtDxz"
      },
      "source": [
        "data['density']=data['pop']/data['area']"
      ],
      "execution_count": null,
      "outputs": []
    },
    {
      "cell_type": "code",
      "metadata": {
        "id": "VFkSnWLb2Mzg",
        "colab": {
          "base_uri": "https://localhost:8080/",
          "height": 112
        },
        "outputId": "db24201f-5ee6-436b-f13b-72ea13969cd7"
      },
      "source": [
        "data[1:3]"
      ],
      "execution_count": null,
      "outputs": [
        {
          "output_type": "execute_result",
          "data": {
            "text/html": [
              "<div>\n",
              "<style scoped>\n",
              "    .dataframe tbody tr th:only-of-type {\n",
              "        vertical-align: middle;\n",
              "    }\n",
              "\n",
              "    .dataframe tbody tr th {\n",
              "        vertical-align: top;\n",
              "    }\n",
              "\n",
              "    .dataframe thead th {\n",
              "        text-align: right;\n",
              "    }\n",
              "</style>\n",
              "<table border=\"1\" class=\"dataframe\">\n",
              "  <thead>\n",
              "    <tr style=\"text-align: right;\">\n",
              "      <th></th>\n",
              "      <th>area</th>\n",
              "      <th>pop</th>\n",
              "      <th>density</th>\n",
              "    </tr>\n",
              "  </thead>\n",
              "  <tbody>\n",
              "    <tr>\n",
              "      <th>Texas</th>\n",
              "      <td>695662</td>\n",
              "      <td>26448193</td>\n",
              "      <td>38.018740</td>\n",
              "    </tr>\n",
              "    <tr>\n",
              "      <th>New York</th>\n",
              "      <td>141297</td>\n",
              "      <td>19651127</td>\n",
              "      <td>139.076746</td>\n",
              "    </tr>\n",
              "  </tbody>\n",
              "</table>\n",
              "</div>"
            ],
            "text/plain": [
              "            area       pop     density\n",
              "Texas     695662  26448193   38.018740\n",
              "New York  141297  19651127  139.076746"
            ]
          },
          "metadata": {},
          "execution_count": 7
        }
      ]
    },
    {
      "cell_type": "markdown",
      "metadata": {
        "id": "5LMT_PPVM6Ak"
      },
      "source": [
        "Filtrar a partir de un va"
      ]
    },
    {
      "cell_type": "code",
      "metadata": {
        "id": "yFSqFfNu2NTI",
        "colab": {
          "base_uri": "https://localhost:8080/",
          "height": 112
        },
        "outputId": "e5c707d0-0172-4c70-8f53-b0c16d07f7c7"
      },
      "source": [
        "data[data.density > 100]"
      ],
      "execution_count": null,
      "outputs": [
        {
          "output_type": "execute_result",
          "data": {
            "text/html": [
              "<div>\n",
              "<style scoped>\n",
              "    .dataframe tbody tr th:only-of-type {\n",
              "        vertical-align: middle;\n",
              "    }\n",
              "\n",
              "    .dataframe tbody tr th {\n",
              "        vertical-align: top;\n",
              "    }\n",
              "\n",
              "    .dataframe thead th {\n",
              "        text-align: right;\n",
              "    }\n",
              "</style>\n",
              "<table border=\"1\" class=\"dataframe\">\n",
              "  <thead>\n",
              "    <tr style=\"text-align: right;\">\n",
              "      <th></th>\n",
              "      <th>area</th>\n",
              "      <th>pop</th>\n",
              "      <th>density</th>\n",
              "    </tr>\n",
              "  </thead>\n",
              "  <tbody>\n",
              "    <tr>\n",
              "      <th>New York</th>\n",
              "      <td>141297</td>\n",
              "      <td>19651127</td>\n",
              "      <td>139.076746</td>\n",
              "    </tr>\n",
              "    <tr>\n",
              "      <th>Florida</th>\n",
              "      <td>170312</td>\n",
              "      <td>19552860</td>\n",
              "      <td>114.806121</td>\n",
              "    </tr>\n",
              "  </tbody>\n",
              "</table>\n",
              "</div>"
            ],
            "text/plain": [
              "            area       pop     density\n",
              "New York  141297  19651127  139.076746\n",
              "Florida   170312  19552860  114.806121"
            ]
          },
          "metadata": {},
          "execution_count": 8
        }
      ]
    }
  ]
}